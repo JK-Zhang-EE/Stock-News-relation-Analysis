{
 "cells": [
  {
   "cell_type": "code",
   "execution_count": null,
   "metadata": {},
   "outputs": [],
   "source": [
    "#coding: utf-8\n",
    "from selenium import webdriver\n",
    "import requests\n",
    "import time, re\n",
    "from bs4 import BeautifulSoup\n",
    "\n",
    "#use webdriver to open website\n",
    "driver = webdriver.Chrome(r\"C:\\Users\\a3036\\Downloads\\chromedriver.exe\")\n",
    "driver.get(\"https://seekingalpha.com/symbol/SNE?s=sne&news=news-all\")\n",
    "time.sleep(5)\n",
    "\n",
    "#use loop to expand the page of website\n",
    "for i in range(1,130):\n",
    "    driver.execute_script(\"window.scrollTo(0, document.body.scrollHeight);\")\n",
    "    time.sleep(0.8)\n",
    "#put data in soup\n"
   ]
  },
  {
   "cell_type": "code",
   "execution_count": null,
   "metadata": {},
   "outputs": [],
   "source": [
    "import pandas as pd\n",
    "soup =  BeautifulSoup(driver.page_source,'lxml')\n",
    "items = soup.findAll(\"div\",{\"class\": \"mc_list_texting right bullets\"})\n",
    "#print (soup)\n",
    "#print (soup.prettify())\n",
    "#print (items)\n",
    "data1 = []\n",
    "data2 = []\n",
    "data3 = []\n",
    "for item in items:\n",
    "    #title\n",
    "    news_titles = item.find(\"a\", {\"class\": \"market_current_title\"}).text\n",
    "    news_dates = item.find(\"span\",{\"class\": \"date pad_on_summaries\"}).text\n",
    "    news_details = item.find(\"span\",{\"class\": \"general_summary light_text bullets\"}).text\n",
    "    #print (news_titles,news_dates)\n",
    "    data1.append(news_titles)\n",
    "    data2.append(news_dates)\n",
    "    data3.append(news_details)\n",
    "    \n"
   ]
  },
  {
   "cell_type": "code",
   "execution_count": null,
   "metadata": {},
   "outputs": [],
   "source": [
    "data = pd.DataFrame(data1,columns={'news_title'})\n",
    "data['news_dates'] = data2\n",
    "data['news_details'] = data3\n",
    "#print(data)\n",
    "\n",
    "data.to_csv('Microsoft_news.csv')"
   ]
  },
  {
   "cell_type": "code",
   "execution_count": null,
   "metadata": {},
   "outputs": [],
   "source": []
  },
  {
   "cell_type": "code",
   "execution_count": null,
   "metadata": {},
   "outputs": [],
   "source": []
  }
 ],
 "metadata": {
  "kernelspec": {
   "display_name": "Python 3",
   "language": "python",
   "name": "python3"
  },
  "language_info": {
   "codemirror_mode": {
    "name": "ipython",
    "version": 3
   },
   "file_extension": ".py",
   "mimetype": "text/x-python",
   "name": "python",
   "nbconvert_exporter": "python",
   "pygments_lexer": "ipython3",
   "version": "3.7.1"
  }
 },
 "nbformat": 4,
 "nbformat_minor": 2
}
